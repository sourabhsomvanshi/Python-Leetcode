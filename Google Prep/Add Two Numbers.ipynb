{
 "cells": [
  {
   "cell_type": "code",
   "execution_count": 1,
   "id": "17aec2c6",
   "metadata": {},
   "outputs": [],
   "source": [
    "# Definition for singly-linked list.\n",
    "class ListNode:\n",
    "    def __init__(self, val=0, next=None):\n",
    "        self.val = val\n",
    "        self.next = next"
   ]
  },
  {
   "cell_type": "code",
   "execution_count": 4,
   "id": "70f8dd5a",
   "metadata": {},
   "outputs": [
    {
     "ename": "NameError",
     "evalue": "name 'Optional' is not defined",
     "output_type": "error",
     "traceback": [
      "\u001b[1;31m---------------------------------------------------------------------------\u001b[0m",
      "\u001b[1;31mNameError\u001b[0m                                 Traceback (most recent call last)",
      "Cell \u001b[1;32mIn[4], line 1\u001b[0m\n\u001b[1;32m----> 1\u001b[0m \u001b[38;5;28;01mclass\u001b[39;00m \u001b[38;5;21;01mSolution\u001b[39;00m:\n\u001b[0;32m      3\u001b[0m     \u001b[38;5;28;01mdef\u001b[39;00m \u001b[38;5;21minsertAtEnd\u001b[39m(\u001b[38;5;28mself\u001b[39m, data):\n\u001b[0;32m      4\u001b[0m         new_node \u001b[38;5;241m=\u001b[39m Node(data)\n",
      "Cell \u001b[1;32mIn[4], line 13\u001b[0m, in \u001b[0;36mSolution\u001b[1;34m()\u001b[0m\n\u001b[0;32m     10\u001b[0m         current_node \u001b[38;5;241m=\u001b[39m current_node\u001b[38;5;241m.\u001b[39mnext\n\u001b[0;32m     11\u001b[0m     current_node\u001b[38;5;241m.\u001b[39mnext \u001b[38;5;241m=\u001b[39m new_node\n\u001b[1;32m---> 13\u001b[0m \u001b[38;5;28;01mdef\u001b[39;00m \u001b[38;5;21maddTwoNumbers\u001b[39m(\u001b[38;5;28mself\u001b[39m, l1: \u001b[43mOptional\u001b[49m[ListNode], l2: Optional[ListNode]) \u001b[38;5;241m-\u001b[39m\u001b[38;5;241m>\u001b[39m Optional[ListNode]:\n\u001b[0;32m     14\u001b[0m     dummyHead \u001b[38;5;241m=\u001b[39m ListNode(\u001b[38;5;241m0\u001b[39m)\n\u001b[0;32m     15\u001b[0m     current_node_l1 \u001b[38;5;241m=\u001b[39m l1\n",
      "\u001b[1;31mNameError\u001b[0m: name 'Optional' is not defined"
     ]
    }
   ],
   "source": [
    "class Solution:\n",
    "    \n",
    "    def addTwoNumbers(self, l1: Optional[ListNode], l2: Optional[ListNode]) -> Optional[ListNode]:\n",
    "        dummyHead = ListNode(0)\n",
    "        current_node_l1 = l1\n",
    "        current_node_l2 = l2\n",
    "        carry = 0\n",
    "        total = 0\n",
    "        while(current_node_l1 != None or current_node_l2 != None):\n",
    "            total = current_node_l1.val + current_node_l2.val + carry\n",
    "            print(total)\n",
    "\n",
    "            if total>9:\n",
    "                rem = total % 10\n",
    "                carry = total // 10\n",
    "            else:\n",
    "                \n",
    "                \n",
    "            current_node_l1 = current_node_l1.next\n",
    "            current_node_l2 = current_node_l2.next\n",
    "\n",
    "        return dummyHead.next"
   ]
  },
  {
   "cell_type": "code",
   "execution_count": 10,
   "id": "f094eb28",
   "metadata": {},
   "outputs": [
    {
     "name": "stdout",
     "output_type": "stream",
     "text": [
      "9\n",
      "0\n"
     ]
    }
   ],
   "source": [
    "no = 9\n",
    "\n",
    "rem = no % 10\n",
    "carry = no // 10\n",
    "print(rem)\n",
    "print(carry)"
   ]
  },
  {
   "cell_type": "code",
   "execution_count": null,
   "id": "7b9cae66",
   "metadata": {},
   "outputs": [],
   "source": []
  }
 ],
 "metadata": {
  "kernelspec": {
   "display_name": "Python 3 (ipykernel)",
   "language": "python",
   "name": "python3"
  },
  "language_info": {
   "codemirror_mode": {
    "name": "ipython",
    "version": 3
   },
   "file_extension": ".py",
   "mimetype": "text/x-python",
   "name": "python",
   "nbconvert_exporter": "python",
   "pygments_lexer": "ipython3",
   "version": "3.8.18"
  }
 },
 "nbformat": 4,
 "nbformat_minor": 5
}
