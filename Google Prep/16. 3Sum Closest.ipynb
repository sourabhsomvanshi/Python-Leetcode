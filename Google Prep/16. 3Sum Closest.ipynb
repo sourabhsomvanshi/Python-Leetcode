{
 "cells": [
  {
   "cell_type": "markdown",
   "id": "999778b8",
   "metadata": {},
   "source": [
    "Given an integer array nums of length n and an integer target, find three integers in nums such that the sum is closest to target.\n",
    "\n",
    "Return the sum of the three integers.\n",
    "\n",
    "You may assume that each input would have exactly one solution.\n",
    "\n",
    " \n",
    "\n",
    "Example 1:\n",
    "\n",
    "Input: nums = [-1,2,1,-4], target = 1\n",
    "Output: 2\n",
    "Explanation: The sum that is closest to the target is 2. (-1 + 2 + 1 = 2).\n",
    "Example 2:\n",
    "\n",
    "Input: nums = [0,0,0], target = 1\n",
    "Output: 0\n",
    "Explanation: The sum that is closest to the target is 0. (0 + 0 + 0 = 0).\n",
    " \n",
    "\n",
    "Constraints:\n",
    "\n",
    "3 <= nums.length <= 500\n",
    "-1000 <= nums[i] <= 1000\n",
    "-104 <= target <= 104"
   ]
  },
  {
   "cell_type": "code",
   "execution_count": 5,
   "id": "a8213133",
   "metadata": {},
   "outputs": [
    {
     "name": "stdout",
     "output_type": "stream",
     "text": [
      "2\n"
     ]
    }
   ],
   "source": [
    "class Solution:\n",
    "    def threeSumClosest(self, num, target):\n",
    "        num.sort()\n",
    "        sum_total=0\n",
    "        \n",
    "        min_diff=float('inf')\n",
    "        min_sum=0\n",
    "        \n",
    "        i=0\n",
    "        \n",
    "        for idx, val in enumerate(num):\n",
    "            \n",
    "            left=idx+1\n",
    "            right=len(num)-1\n",
    "            \n",
    "            while left < right:\n",
    "\n",
    "                sum_total = val+num[left]+num[right]\n",
    "                \n",
    "                if sum_total == target:\n",
    "                    return target\n",
    "                elif sum_total<target:\n",
    "                    left+=1\n",
    "                elif sum_total>target:\n",
    "                    right-=1\n",
    "                \n",
    "                \n",
    "                \n",
    "                diff_target = abs(target-sum_total)\n",
    "                \n",
    "                if min_diff > diff_target:\n",
    "                    min_diff = diff_target  \n",
    "                    min_sum = sum_total\n",
    "\n",
    "        return min_sum\n",
    "\n",
    "\n",
    "num=[-1,2,1,-4]\n",
    "target = 1\n",
    "obj = Solution()\n",
    "print(obj.threeSumClosest(num, target))"
   ]
  },
  {
   "cell_type": "code",
   "execution_count": null,
   "id": "3b3cc07a",
   "metadata": {},
   "outputs": [],
   "source": []
  }
 ],
 "metadata": {
  "kernelspec": {
   "display_name": "Python 3 (ipykernel)",
   "language": "python",
   "name": "python3"
  },
  "language_info": {
   "codemirror_mode": {
    "name": "ipython",
    "version": 3
   },
   "file_extension": ".py",
   "mimetype": "text/x-python",
   "name": "python",
   "nbconvert_exporter": "python",
   "pygments_lexer": "ipython3",
   "version": "3.8.18"
  }
 },
 "nbformat": 4,
 "nbformat_minor": 5
}
