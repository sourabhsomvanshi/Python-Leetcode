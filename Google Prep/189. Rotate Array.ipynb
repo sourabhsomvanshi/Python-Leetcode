{
 "cells": [
  {
   "cell_type": "markdown",
   "id": "6b4f1848",
   "metadata": {},
   "source": [
    "Given an integer array nums, rotate the array to the right by k steps, where k is non-negative.\n",
    "\n",
    " \n",
    "\n",
    "Example 1:\n",
    "\n",
    "Input: nums = [1,2,3,4,5,6,7], k = 3\n",
    "Output: [5,6,7,1,2,3,4]\n",
    "Explanation:\n",
    "rotate 1 steps to the right: [7,1,2,3,4,5,6]\n",
    "rotate 2 steps to the right: [6,7,1,2,3,4,5]\n",
    "rotate 3 steps to the right: [5,6,7,1,2,3,4]\n",
    "Example 2:\n",
    "\n",
    "Input: nums = [-1,-100,3,99], k = 2\n",
    "Output: [3,99,-1,-100]\n",
    "Explanation: \n",
    "rotate 1 steps to the right: [99,-1,-100,3]\n",
    "rotate 2 steps to the right: [3,99,-1,-100]\n",
    " \n",
    "\n",
    "Constraints:\n",
    "\n",
    "1 <= nums.length <= 105\n",
    "-231 <= nums[i] <= 231 - 1\n",
    "0 <= k <= 105\n",
    " "
   ]
  },
  {
   "cell_type": "code",
   "execution_count": 4,
   "id": "b63b4f72",
   "metadata": {},
   "outputs": [
    {
     "name": "stdout",
     "output_type": "stream",
     "text": [
      "[5, 6, 7, 1, 2, 3, 4]\n",
      "None\n"
     ]
    }
   ],
   "source": [
    "class Solution:\n",
    "    def rotate(self, nums, k):\n",
    "        \"\"\"\n",
    "        Do not return anything, modify nums in-place instead.\n",
    "        \"\"\"\n",
    "        index = 0\n",
    "        \n",
    "        for i in range(k):\n",
    "            temp = nums.pop()\n",
    "            nums.insert(0,temp)\n",
    "        print(nums)\n",
    "        \n",
    "        \n",
    "nums=[1,2,3,4,5,6,7]\n",
    "k=3\n",
    "obj=Solution()\n",
    "print(obj.rotate(nums,k))"
   ]
  },
  {
   "cell_type": "code",
   "execution_count": 9,
   "id": "5d01f86f",
   "metadata": {},
   "outputs": [
    {
     "name": "stdout",
     "output_type": "stream",
     "text": [
      "3\n",
      "[7, 6, 5, 4, 3, 2, 1]\n",
      "[5, 6, 7, 4, 3, 2, 1]\n",
      "[5, 6, 7, 1, 2, 3, 4]\n",
      "***********\n",
      "[5, 6, 7, 1, 2, 3, 4]\n",
      "None\n"
     ]
    }
   ],
   "source": [
    "class Solution:\n",
    "    def rotate(self, nums, k):\n",
    "        \"\"\"\n",
    "        Do not return anything, modify nums in-place instead.\n",
    "        \"\"\"\n",
    "        k=k%(len(nums))\n",
    "        print(k)\n",
    "        if k>0:\n",
    "            nums.reverse()\n",
    "            print(nums)\n",
    "            nums[:k]=nums[:k][::-1]\n",
    "            print(nums)\n",
    "            nums[k:]=nums[k:][::-1]\n",
    "            print(nums)\n",
    "            print('***********')\n",
    "        print(nums)\n",
    "        \n",
    "        \n",
    "        \n",
    "nums=[1,2,3,4,5,6,7]\n",
    "k=3\n",
    "obj=Solution()\n",
    "print(obj.rotate(nums,k))"
   ]
  },
  {
   "cell_type": "code",
   "execution_count": null,
   "id": "29664b77",
   "metadata": {},
   "outputs": [],
   "source": []
  }
 ],
 "metadata": {
  "kernelspec": {
   "display_name": "Python 3 (ipykernel)",
   "language": "python",
   "name": "python3"
  },
  "language_info": {
   "codemirror_mode": {
    "name": "ipython",
    "version": 3
   },
   "file_extension": ".py",
   "mimetype": "text/x-python",
   "name": "python",
   "nbconvert_exporter": "python",
   "pygments_lexer": "ipython3",
   "version": "3.8.18"
  }
 },
 "nbformat": 4,
 "nbformat_minor": 5
}
