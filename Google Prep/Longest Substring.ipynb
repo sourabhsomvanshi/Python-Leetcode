{
 "cells": [
  {
   "cell_type": "code",
   "execution_count": 26,
   "id": "21a8e1c3",
   "metadata": {},
   "outputs": [
    {
     "name": "stdout",
     "output_type": "stream",
     "text": [
      "{'p': 1, 'pw': 2, 'pww': 3, 'pwwk': 4, 'pwwke': 5, 'w': 1, 'ww': 2, 'wwk': 3, 'wwke': 4, 'wk': 2, 'wke': 3, 'k': 1, 'ke': 2, 'e': 1}\n",
      "{'p': 1, 'pw': 2, 'w': 1, 'wk': 2, 'wke': 3, 'k': 1, 'ke': 2, 'e': 1}\n",
      "3\n",
      "wke\n"
     ]
    }
   ],
   "source": [
    "#Brute force\n",
    "\n",
    "s = \"pwwkew\"\n",
    "\n",
    "def check(s):\n",
    "    dedup_str = []\n",
    "    for ch in s:\n",
    "        if ch not in dedup_str:\n",
    "            dedup_str.append(ch)\n",
    "    return \"\".join(dedup_str)\n",
    "        \n",
    "\n",
    "hash_map = {}\n",
    "for i in range(len(s)):\n",
    "    for j  in range(i+1,len(s)):\n",
    "        hash_map[s[i:j]] = len(s[i:j])\n",
    "        \n",
    "\n",
    "\n",
    "for key in list(hash_map.keys()):\n",
    "    res = check(key)\n",
    "    if key != res:\n",
    "        hash_map.pop(key)\n",
    "\n",
    "       \n",
    "max1=0\n",
    "for key, val in hash_map.items():\n",
    "    if val>max1:\n",
    "        max1=val\n",
    "        max_string = key\n",
    "        \n",
    "\n",
    "print(max1)\n",
    "print(max_string)\n"
   ]
  },
  {
   "cell_type": "code",
   "execution_count": 40,
   "id": "668ba01a",
   "metadata": {},
   "outputs": [
    {
     "name": "stdout",
     "output_type": "stream",
     "text": [
      "{'a': 0}\n",
      "1\n",
      "{'a': 0, 'b': 1}\n",
      "2\n",
      "{'a': 0, 'b': 1, 'c': 2}\n",
      "3\n",
      "{'a': 0, 'b': 1, 'c': 2, 'd': 3}\n",
      "4\n",
      "{'a': 0, 'b': 1, 'c': 2, 'd': 3, 'e': 4}\n",
      "5\n",
      "{'a': 5, 'b': 1, 'c': 2, 'd': 3, 'e': 4}\n",
      "5\n",
      "{'a': 5, 'b': 1, 'c': 2, 'd': 3, 'e': 4, 'f': 6}\n",
      "6\n",
      "{'a': 5, 'b': 7, 'c': 2, 'd': 3, 'e': 4, 'f': 6}\n",
      "6\n",
      "{'a': 5, 'b': 7, 'c': 2, 'd': 8, 'e': 4, 'f': 6}\n",
      "6\n",
      "{'a': 5, 'b': 7, 'c': 2, 'd': 8, 'e': 4, 'f': 6, 'g': 9}\n",
      "6\n",
      "{'a': 5, 'b': 7, 'c': 10, 'd': 8, 'e': 4, 'f': 6, 'g': 9}\n",
      "6\n",
      "{'a': 5, 'b': 11, 'c': 10, 'd': 8, 'e': 4, 'f': 6, 'g': 9}\n",
      "6\n",
      "{'a': 5, 'b': 12, 'c': 10, 'd': 8, 'e': 4, 'f': 6, 'g': 9}\n",
      "6\n"
     ]
    }
   ],
   "source": [
    "#Sliding window optimized\n",
    "s=\"abcdeafbdgcbb\"\n",
    "#s=\"abcabcbb\"\n",
    "left=0\n",
    "maxLength=0\n",
    "charmap={}\n",
    "for right in range(len(s)):\n",
    "    if s[right] not in charmap:\n",
    "        charmap[s[right]]=right\n",
    "        maxLength = max(maxLength, right - left + 1)\n",
    "    else:\n",
    "        left = charmap[s[right]] + 1\n",
    "        charmap[s[right]] = right\n",
    "    print(charmap)\n",
    "    print(maxLength)\n"
   ]
  },
  {
   "cell_type": "code",
   "execution_count": null,
   "id": "2c1d6ded",
   "metadata": {},
   "outputs": [],
   "source": []
  },
  {
   "cell_type": "code",
   "execution_count": null,
   "id": "284aad74",
   "metadata": {},
   "outputs": [],
   "source": []
  }
 ],
 "metadata": {
  "kernelspec": {
   "display_name": "Python 3 (ipykernel)",
   "language": "python",
   "name": "python3"
  },
  "language_info": {
   "codemirror_mode": {
    "name": "ipython",
    "version": 3
   },
   "file_extension": ".py",
   "mimetype": "text/x-python",
   "name": "python",
   "nbconvert_exporter": "python",
   "pygments_lexer": "ipython3",
   "version": "3.8.18"
  }
 },
 "nbformat": 4,
 "nbformat_minor": 5
}
