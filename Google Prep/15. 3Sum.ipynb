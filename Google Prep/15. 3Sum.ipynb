{
 "cells": [
  {
   "cell_type": "markdown",
   "id": "40fb3f09",
   "metadata": {},
   "source": [
    "Given an integer array nums, return all the triplets [nums[i], nums[j], nums[k]] such that i != j, i != k, and j != k, and nums[i] + nums[j] + nums[k] == 0.\n",
    "\n",
    "Notice that the solution set must not contain duplicate triplets.\n",
    "\n",
    " \n",
    "\n",
    "Example 1:\n",
    "\n",
    "Input: nums = [-1,0,1,2,-1,-4]\n",
    "Output: [[-1,-1,2],[-1,0,1]]\n",
    "Explanation: \n",
    "nums[0] + nums[1] + nums[2] = (-1) + 0 + 1 = 0.\n",
    "nums[1] + nums[2] + nums[4] = 0 + 1 + (-1) = 0.\n",
    "nums[0] + nums[3] + nums[4] = (-1) + 2 + (-1) = 0.\n",
    "The distinct triplets are [-1,0,1] and [-1,-1,2].\n",
    "Notice that the order of the output and the order of the triplets does not matter.\n",
    "Example 2:\n",
    "\n",
    "Input: nums = [0,1,1]\n",
    "Output: []\n",
    "Explanation: The only possible triplet does not sum up to 0.\n",
    "Example 3:\n",
    "\n",
    "Input: nums = [0,0,0]\n",
    "Output: [[0,0,0]]\n",
    "Explanation: The only possible triplet sums up to 0.\n",
    " \n",
    "\n",
    "Constraints:\n",
    "\n",
    "3 <= nums.length <= 3000\n",
    "-105 <= nums[i] <= 105"
   ]
  },
  {
   "cell_type": "code",
   "execution_count": 18,
   "id": "4793f539",
   "metadata": {},
   "outputs": [
    {
     "name": "stdout",
     "output_type": "stream",
     "text": [
      "[-4, -1, -1, 0, 1, 2]\n",
      "[[-1, -1, 2], [-1, 0, 1]]\n"
     ]
    }
   ],
   "source": [
    "class Solution:\n",
    "    def threeSum(self, nums):\n",
    "        \n",
    "        res = []\n",
    "        nums.sort()\n",
    "        print(nums)\n",
    "        for idx , val in enumerate(nums):\n",
    "            \n",
    "            if idx > 0 and val==nums[idx-1]:\n",
    "                continue\n",
    "            \n",
    "            left = idx+1\n",
    "            right = len(nums)-1\n",
    "            \n",
    "            while left < right:\n",
    "                if nums[left]+val+nums[right]<0:\n",
    "                    left+= 1\n",
    "                elif nums[left]+val+nums[right]>0:\n",
    "                    right-= 1\n",
    "                else:\n",
    "                    res.append([val, nums[left], nums[right]])\n",
    "                    left+=1\n",
    "                    while nums[left]==nums[left-1] and left < right:\n",
    "                        left+=1\n",
    "        \n",
    "        return res\n",
    "            \n",
    "\n",
    "    \n",
    "obj = Solution()\n",
    "nums = [-1,0,1,2,-1,-4]\n",
    "print(obj.threeSum(nums))"
   ]
  },
  {
   "cell_type": "code",
   "execution_count": null,
   "id": "967b445a",
   "metadata": {},
   "outputs": [],
   "source": []
  },
  {
   "cell_type": "code",
   "execution_count": null,
   "id": "a7f75368",
   "metadata": {},
   "outputs": [],
   "source": []
  }
 ],
 "metadata": {
  "kernelspec": {
   "display_name": "Python 3 (ipykernel)",
   "language": "python",
   "name": "python3"
  },
  "language_info": {
   "codemirror_mode": {
    "name": "ipython",
    "version": 3
   },
   "file_extension": ".py",
   "mimetype": "text/x-python",
   "name": "python",
   "nbconvert_exporter": "python",
   "pygments_lexer": "ipython3",
   "version": "3.8.18"
  }
 },
 "nbformat": 4,
 "nbformat_minor": 5
}
