{
 "cells": [
  {
   "cell_type": "markdown",
   "id": "26fb1258",
   "metadata": {},
   "source": [
    "You are given an integer array nums. You are initially positioned at the array's first index, and each element in the array represents your maximum jump length at that position.\n",
    "\n",
    "Return true if you can reach the last index, or false otherwise.\n",
    "\n",
    " \n",
    "\n",
    "Example 1:\n",
    "\n",
    "Input: nums = [2,3,1,1,4]\n",
    "Output: true\n",
    "Explanation: Jump 1 step from index 0 to 1, then 3 steps to the last index.\n",
    "Example 2:\n",
    "\n",
    "Input: nums = [3,2,1,0,4]\n",
    "Output: false\n",
    "Explanation: You will always arrive at index 3 no matter what. Its maximum jump length is 0, which makes it impossible to reach the last index.\n",
    " \n",
    "\n",
    "Constraints:\n",
    "\n",
    "1 <= nums.length <= 104\n",
    "0 <= nums[i] <= 105"
   ]
  },
  {
   "cell_type": "code",
   "execution_count": 10,
   "id": "29cc6d16",
   "metadata": {},
   "outputs": [
    {
     "name": "stdout",
     "output_type": "stream",
     "text": [
      "Gas= 0\n",
      "Gas= 2\n",
      "Gas= 1\n",
      "Gas= 0\n",
      "Gas= -1\n",
      "False\n"
     ]
    }
   ],
   "source": [
    "class Solution:\n",
    "    def canJump(self, nums):\n",
    "        gas = 0\n",
    "        for n in nums:\n",
    "            print('Gas=',gas)\n",
    "            if gas < 0:\n",
    "                return False\n",
    "            elif n > gas:\n",
    "                gas = n\n",
    "            gas -= 1\n",
    "        return True\n",
    "            \n",
    "        \n",
    "nums=[3,2,1,0,4]\n",
    "obj = Solution()\n",
    "print(obj.canJump(nums))"
   ]
  },
  {
   "cell_type": "code",
   "execution_count": null,
   "id": "8bff75e4",
   "metadata": {},
   "outputs": [],
   "source": []
  }
 ],
 "metadata": {
  "kernelspec": {
   "display_name": "Python 3 (ipykernel)",
   "language": "python",
   "name": "python3"
  },
  "language_info": {
   "codemirror_mode": {
    "name": "ipython",
    "version": 3
   },
   "file_extension": ".py",
   "mimetype": "text/x-python",
   "name": "python",
   "nbconvert_exporter": "python",
   "pygments_lexer": "ipython3",
   "version": "3.8.18"
  }
 },
 "nbformat": 4,
 "nbformat_minor": 5
}
