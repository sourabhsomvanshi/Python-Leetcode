{
 "cells": [
  {
   "cell_type": "markdown",
   "id": "73814df9",
   "metadata": {},
   "source": [
    "You are given an integer array height of length n. There are n vertical lines drawn such that the two endpoints of the ith line are (i, 0) and (i, height[i]).\n",
    "\n",
    "Find two lines that together with the x-axis form a container, such that the container contains the most water.\n",
    "\n",
    "Return the maximum amount of water a container can store.\n",
    "\n",
    "Notice that you may not slant the container.\n",
    "\n",
    " \n",
    "\n",
    "Example 1:\n",
    "\n",
    "\n",
    "Input: height = [1,8,6,2,5,4,8,3,7]\n",
    "Output: 49\n",
    "Explanation: The above vertical lines are represented by array [1,8,6,2,5,4,8,3,7]. In this case, the max area of water (blue section) the container can contain is 49.\n",
    "Example 2:\n",
    "\n",
    "Input: height = [1,1]\n",
    "Output: 1\n",
    " \n",
    "\n",
    "Constraints:\n",
    "\n",
    "n == height.length\n",
    "2 <= n <= 105\n",
    "0 <= height[i] <= 104"
   ]
  },
  {
   "cell_type": "code",
   "execution_count": 12,
   "id": "1a10e65d",
   "metadata": {},
   "outputs": [
    {
     "name": "stdout",
     "output_type": "stream",
     "text": [
      "49\n"
     ]
    }
   ],
   "source": [
    "#Brute force solution\n",
    "class Solution:\n",
    "    def maxArea(self, height):\n",
    "        max_area = 0\n",
    "        \n",
    "        for i in range(len(height)):\n",
    "            for j in range(i+1, len(height)):\n",
    "                min_len = min(height[i], height[j])\n",
    "                min_width = abs(j-i)\n",
    "                area = min_len * min_width\n",
    "\n",
    "                if area > max_area:\n",
    "                    max_area = area\n",
    "\n",
    "        return max_area\n",
    "        \n",
    "        \n",
    "obj = Solution()\n",
    "height = [1,8,6,2,5,4,8,3,7] \n",
    "print(obj.maxArea(height))\n"
   ]
  },
  {
   "cell_type": "code",
   "execution_count": 14,
   "id": "a00220ff",
   "metadata": {},
   "outputs": [
    {
     "name": "stdout",
     "output_type": "stream",
     "text": [
      "49\n"
     ]
    }
   ],
   "source": [
    "#Two pointer approach\n",
    "\n",
    "class Solution:\n",
    "    def maxArea(self, height):\n",
    "        area = 0\n",
    "        max_area = 0\n",
    "        left = 0\n",
    "        right = len(height)-1\n",
    "        \n",
    "        while left < right:\n",
    "            \n",
    "            if height[left]<=height[right]:\n",
    "                minheight = height[left]\n",
    "                area = minheight * abs(right-left)\n",
    "                left+=1\n",
    "            else:\n",
    "                minheight = height[right]\n",
    "                area = minheight * abs(right-left)\n",
    "                right-=1\n",
    "                \n",
    "            if area > max_area:\n",
    "                max_area = area\n",
    "            \n",
    "            \n",
    "        return max_area\n",
    "        \n",
    "        \n",
    "obj = Solution()\n",
    "height = [1,8,6,2,5,4,8,3,7] \n",
    "print(obj.maxArea(height))"
   ]
  },
  {
   "cell_type": "code",
   "execution_count": null,
   "id": "44ce8488",
   "metadata": {},
   "outputs": [],
   "source": []
  }
 ],
 "metadata": {
  "kernelspec": {
   "display_name": "Python 3 (ipykernel)",
   "language": "python",
   "name": "python3"
  },
  "language_info": {
   "codemirror_mode": {
    "name": "ipython",
    "version": 3
   },
   "file_extension": ".py",
   "mimetype": "text/x-python",
   "name": "python",
   "nbconvert_exporter": "python",
   "pygments_lexer": "ipython3",
   "version": "3.8.18"
  }
 },
 "nbformat": 4,
 "nbformat_minor": 5
}
