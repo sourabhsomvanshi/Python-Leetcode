{
 "cells": [
  {
   "cell_type": "code",
   "execution_count": 4,
   "id": "7ab796ad",
   "metadata": {},
   "outputs": [
    {
     "name": "stdout",
     "output_type": "stream",
     "text": [
      "-987\n"
     ]
    }
   ],
   "source": [
    "class Solution:\n",
    "    def myAtoi(self,s : str) -> int:\n",
    "        s = s.strip()\n",
    "        if not s:\n",
    "            return 0\n",
    "        no = 0\n",
    "        sign=1\n",
    "        \n",
    "        if s[0]=='-':\n",
    "            sign = -1\n",
    "        elif s[0]=='+':\n",
    "            sign = 1\n",
    "        \n",
    "        i=1\n",
    "        while i<len(s) and s[i].isdigit():\n",
    "            digit = int(s[i])\n",
    "            if no > (2**31-1 - digit)//10:\n",
    "                return 2**31 - 1 if sign == 1 else -2**31\n",
    "            no = no * 10 + digit\n",
    "            i+=1\n",
    "        no = no * sign   \n",
    "        return no \n",
    "                \n",
    "s=\"-987\"\n",
    "obj = Solution()\n",
    "output = obj.myAtoi(s)\n",
    "print(output)"
   ]
  },
  {
   "cell_type": "code",
   "execution_count": null,
   "id": "a6a43a46",
   "metadata": {},
   "outputs": [],
   "source": [
    "class Solution:\n",
    "    def myAtoi(self, s: str) -> int:\n",
    "        multiply_by = 1\n",
    "        res_int = 0\n",
    "        \n",
    "        if s is \"\":\n",
    "            return 0\n",
    "        \n",
    "        if len(s) > 1:\n",
    "            if s[0] is '+' and s[1] is '-':\n",
    "                return 0\n",
    "            elif s[1] is '+' and s[0] is '-':\n",
    "                return 0\n",
    "        \n",
    "        temp_str = s.strip()\n",
    "        for i,char in enumerate(temp_str):\n",
    "            if char is '-' and i is 0 :\n",
    "                multiply_by = -1\n",
    "                continue\n",
    "            elif char is '+' and i is 0 :\n",
    "                multiply_by = 1\n",
    "                continue\n",
    "            \n",
    "            if char >= '0' and char <= '9':\n",
    "                res_int = res_int*10 + int(char)\n",
    "            else:\n",
    "                break\n",
    "                 \n",
    "            if res_int * multiply_by  > pow(2, 31) - 1:\n",
    "                return pow(2, 31) - 1\n",
    "            \n",
    "            if res_int * multiply_by < -pow(2, 31) :\n",
    "                return -pow(2, 31)\n",
    "            \n",
    "        return res_int * multiply_by"
   ]
  },
  {
   "cell_type": "code",
   "execution_count": null,
   "id": "aa285c9b",
   "metadata": {},
   "outputs": [],
   "source": []
  },
  {
   "cell_type": "code",
   "execution_count": null,
   "id": "1b3c6e7e",
   "metadata": {},
   "outputs": [],
   "source": []
  },
  {
   "cell_type": "code",
   "execution_count": null,
   "id": "7238dad7",
   "metadata": {},
   "outputs": [],
   "source": []
  }
 ],
 "metadata": {
  "kernelspec": {
   "display_name": "Python 3 (ipykernel)",
   "language": "python",
   "name": "python3"
  },
  "language_info": {
   "codemirror_mode": {
    "name": "ipython",
    "version": 3
   },
   "file_extension": ".py",
   "mimetype": "text/x-python",
   "name": "python",
   "nbconvert_exporter": "python",
   "pygments_lexer": "ipython3",
   "version": "3.8.18"
  }
 },
 "nbformat": 4,
 "nbformat_minor": 5
}
