{
 "cells": [
  {
   "cell_type": "markdown",
   "id": "0de4efae",
   "metadata": {},
   "source": [
    "Given a sorted array of distinct integers and a target value, return the index if the target is found. If not, return the index where it would be if it were inserted in order.\n",
    "\n",
    "You must write an algorithm with O(log n) runtime complexity.\n",
    "\n",
    " \n",
    "\n",
    "Example 1:\n",
    "\n",
    "Input: nums = [1,3,5,6], target = 5\n",
    "Output: 2\n",
    "Example 2:\n",
    "\n",
    "Input: nums = [1,3,5,6], target = 2\n",
    "Output: 1\n",
    "Example 3:\n",
    "\n",
    "Input: nums = [1,3,5,6], target = 7\n",
    "Output: 4\n",
    " \n",
    "\n",
    "Constraints:\n",
    "\n",
    "1 <= nums.length <= 104\n",
    "-104 <= nums[i] <= 104\n",
    "nums contains distinct values sorted in ascending order.\n",
    "-104 <= target <= 104"
   ]
  },
  {
   "cell_type": "code",
   "execution_count": 6,
   "id": "28d4be88",
   "metadata": {},
   "outputs": [
    {
     "name": "stdout",
     "output_type": "stream",
     "text": [
      "4\n"
     ]
    }
   ],
   "source": [
    "class Solution:\n",
    "    def searchInsert(self, nums, target):\n",
    "        left = 0\n",
    "        right = len(nums)-1\n",
    "        \n",
    "        while left <= right:\n",
    "            mid = (left + right)//2\n",
    "            if nums[mid]==target:\n",
    "                return mid\n",
    "            elif nums[mid] < target:\n",
    "                left=mid+1\n",
    "            elif nums[mid] > target:\n",
    "                right=mid-1\n",
    "        return left\n",
    "\n",
    "nums=[1,3,5,6]\n",
    "target=7\n",
    "obj = Solution()\n",
    "print(obj.searchInsert(nums,target))"
   ]
  },
  {
   "cell_type": "code",
   "execution_count": null,
   "id": "2dee2a64",
   "metadata": {},
   "outputs": [],
   "source": []
  }
 ],
 "metadata": {
  "kernelspec": {
   "display_name": "Python 3 (ipykernel)",
   "language": "python",
   "name": "python3"
  },
  "language_info": {
   "codemirror_mode": {
    "name": "ipython",
    "version": 3
   },
   "file_extension": ".py",
   "mimetype": "text/x-python",
   "name": "python",
   "nbconvert_exporter": "python",
   "pygments_lexer": "ipython3",
   "version": "3.8.18"
  }
 },
 "nbformat": 4,
 "nbformat_minor": 5
}
