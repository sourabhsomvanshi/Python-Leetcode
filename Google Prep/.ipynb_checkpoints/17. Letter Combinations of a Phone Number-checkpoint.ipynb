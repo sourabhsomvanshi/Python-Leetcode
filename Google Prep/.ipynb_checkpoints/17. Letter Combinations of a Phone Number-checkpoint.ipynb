{
 "cells": [
  {
   "cell_type": "markdown",
   "id": "3705a8e5",
   "metadata": {},
   "source": [
    "Given a string containing digits from 2-9 inclusive, return all possible letter combinations that the number could represent. Return the answer in any order.\n",
    "\n",
    "A mapping of digits to letters (just like on the telephone buttons) is given below. Note that 1 does not map to any letters.\n",
    "\n",
    "\n",
    " \n",
    "\n",
    "Example 1:\n",
    "\n",
    "Input: digits = \"23\"\n",
    "Output: [\"ad\",\"ae\",\"af\",\"bd\",\"be\",\"bf\",\"cd\",\"ce\",\"cf\"]\n",
    "Example 2:\n",
    "\n",
    "Input: digits = \"\"\n",
    "Output: []\n",
    "Example 3:\n",
    "\n",
    "Input: digits = \"2\"\n",
    "Output: [\"a\",\"b\",\"c\"]\n",
    " \n",
    "\n",
    "Constraints:\n",
    "\n",
    "0 <= digits.length <= 4\n",
    "digits[i] is a digit in the range ['2', '9'].\n"
   ]
  },
  {
   "cell_type": "code",
   "execution_count": 18,
   "id": "55c32add",
   "metadata": {},
   "outputs": [
    {
     "name": "stdout",
     "output_type": "stream",
     "text": [
      "['ad', 'ae', 'af', 'bd', 'be', 'bf', 'cd', 'ce', 'cf']\n"
     ]
    }
   ],
   "source": [
    "class Solution:\n",
    "    def letterCombinations(self, digits):\n",
    "        res=[]\n",
    "        digitToChar = {\n",
    "            \"2\": \"abc\",\n",
    "            \"3\": \"def\",\n",
    "            \"4\": \"ghi\",\n",
    "            \"5\": \"jkl\",\n",
    "            \"6\": \"mno\",\n",
    "            \"7\": \"pqrs\",\n",
    "            \"8\": \"tuv\",\n",
    "            \"9\": \"wxyz\"\n",
    "        }\n",
    "        \n",
    "        def backtrack(i, curStr):\n",
    "            if len(curStr)==len(digits):\n",
    "                res.append(curStr)\n",
    "                return\n",
    "            for c in digitToChar[digits[i]]:\n",
    "                backtrack(i+1, curStr + c)\n",
    "        if digits:\n",
    "            backtrack(0,\"\")\n",
    "        \n",
    "        return res\n",
    "        \n",
    "digits=\"23\"\n",
    "obj=Solution()\n",
    "print(obj.letterCombinations(digits))"
   ]
  },
  {
   "cell_type": "code",
   "execution_count": null,
   "id": "ab49f0f9",
   "metadata": {},
   "outputs": [],
   "source": []
  },
  {
   "cell_type": "code",
   "execution_count": null,
   "id": "ffbdb183",
   "metadata": {},
   "outputs": [],
   "source": []
  }
 ],
 "metadata": {
  "kernelspec": {
   "display_name": "Python 3 (ipykernel)",
   "language": "python",
   "name": "python3"
  },
  "language_info": {
   "codemirror_mode": {
    "name": "ipython",
    "version": 3
   },
   "file_extension": ".py",
   "mimetype": "text/x-python",
   "name": "python",
   "nbconvert_exporter": "python",
   "pygments_lexer": "ipython3",
   "version": "3.8.18"
  }
 },
 "nbformat": 4,
 "nbformat_minor": 5
}
