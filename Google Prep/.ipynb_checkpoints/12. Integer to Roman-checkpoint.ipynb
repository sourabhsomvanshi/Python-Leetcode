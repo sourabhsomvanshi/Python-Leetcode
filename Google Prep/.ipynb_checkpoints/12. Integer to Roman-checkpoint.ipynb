{
 "cells": [
  {
   "cell_type": "markdown",
   "id": "eb97a548",
   "metadata": {},
   "source": [
    "Roman numerals are represented by seven different symbols: I, V, X, L, C, D and M.\n",
    "\n",
    "Symbol       Value\n",
    "I             1\n",
    "V             5\n",
    "X             10\n",
    "L             50\n",
    "C             100\n",
    "D             500\n",
    "M             1000\n",
    "For example, 2 is written as II in Roman numeral, just two one's added together. 12 is written as XII, which is simply X + II. The number 27 is written as XXVII, which is XX + V + II.\n",
    "\n",
    "Roman numerals are usually written largest to smallest from left to right. However, the numeral for four is not IIII. Instead, the number four is written as IV. Because the one is before the five we subtract it making four. The same principle applies to the number nine, which is written as IX. There are six instances where subtraction is used:\n",
    "\n",
    "I can be placed before V (5) and X (10) to make 4 and 9. \n",
    "X can be placed before L (50) and C (100) to make 40 and 90. \n",
    "C can be placed before D (500) and M (1000) to make 400 and 900.\n",
    "Given an integer, convert it to a roman numeral.\n",
    "\n",
    " \n",
    "\n",
    "Example 1:\n",
    "\n",
    "Input: num = 3\n",
    "Output: \"III\"\n",
    "Explanation: 3 is represented as 3 ones.\n",
    "Example 2:\n",
    "\n",
    "Input: num = 58\n",
    "Output: \"LVIII\"\n",
    "Explanation: L = 50, V = 5, III = 3.\n",
    "Example 3:\n",
    "\n",
    "Input: num = 1994\n",
    "Output: \"MCMXCIV\"\n",
    "Explanation: M = 1000, CM = 900, XC = 90 and IV = 4.\n",
    " \n",
    "\n",
    "Constraints:\n",
    "\n",
    "1 <= num <= 3999\n"
   ]
  },
  {
   "cell_type": "code",
   "execution_count": 6,
   "id": "9a11d250",
   "metadata": {},
   "outputs": [
    {
     "name": "stdout",
     "output_type": "stream",
     "text": [
      "XIII\n"
     ]
    }
   ],
   "source": [
    "class Solution:\n",
    "    def intToRoman(self, num: int)->str:\n",
    "        M = ['', 'M', 'MM', 'MMM']\n",
    "        C = ['', 'C', 'CC', 'CCC', 'CD', 'D', 'DC', 'DCC', 'DCCC', 'CM']\n",
    "        X = ['', 'X', 'XX', 'XXX', 'XL', 'L', 'LX', 'LXX', 'LXXX', 'XC']\n",
    "        I = ['', 'I', 'II', 'III', 'IV', 'V', 'VI', 'VII', 'VIII', 'IX']\n",
    "        return M[num // 1000] + C[num % 1000 // 100] + X[num % 100 // 10] + I[num % 10] \n",
    "    \n",
    "num=13\n",
    "obj = Solution()\n",
    "print(obj.intToRoman(num))"
   ]
  },
  {
   "cell_type": "code",
   "execution_count": 19,
   "id": "89c84165",
   "metadata": {},
   "outputs": [
    {
     "name": "stdout",
     "output_type": "stream",
     "text": [
      "XIII\n"
     ]
    }
   ],
   "source": [
    "class Solution:\n",
    "    def intToRoman(self, num: int) -> str:\n",
    "        mapper = {1000:'M', 900:'CM',\n",
    "                500:'D', 400: 'CD',\n",
    "                100:'C', 90:'XC',\n",
    "                50:'L', 40:'XL',\n",
    "                10:'X', 9:'IX',\n",
    "                5:'V', 4:'IV',\n",
    "                1:'I'}\n",
    "        ans = []\n",
    "        for val in mapper.keys():\n",
    "            while num > 0 and num >= val:\n",
    "                ans.append(mapper[val]*(num//val))\n",
    "                num = num%val\n",
    "        return ''.join(ans)\n",
    "    \n",
    "num=13\n",
    "obj = Solution()\n",
    "print(obj.intToRoman(num))"
   ]
  },
  {
   "cell_type": "code",
   "execution_count": null,
   "id": "03bf0a57",
   "metadata": {},
   "outputs": [],
   "source": []
  },
  {
   "cell_type": "code",
   "execution_count": null,
   "id": "d8592207",
   "metadata": {},
   "outputs": [],
   "source": []
  }
 ],
 "metadata": {
  "kernelspec": {
   "display_name": "Python 3 (ipykernel)",
   "language": "python",
   "name": "python3"
  },
  "language_info": {
   "codemirror_mode": {
    "name": "ipython",
    "version": 3
   },
   "file_extension": ".py",
   "mimetype": "text/x-python",
   "name": "python",
   "nbconvert_exporter": "python",
   "pygments_lexer": "ipython3",
   "version": "3.8.18"
  }
 },
 "nbformat": 4,
 "nbformat_minor": 5
}
