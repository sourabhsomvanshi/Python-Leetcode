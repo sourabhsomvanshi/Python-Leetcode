{
 "cells": [
  {
   "cell_type": "markdown",
   "id": "1b79108e",
   "metadata": {},
   "source": [
    "Given an array nums of size n, return the majority element.\n",
    "\n",
    "The majority element is the element that appears more than ⌊n / 2⌋ times. You may assume that the majority element always exists in the array.\n",
    "\n",
    " \n",
    "\n",
    "Example 1:\n",
    "\n",
    "Input: nums = [3,2,3]\n",
    "Output: 3\n",
    "Example 2:\n",
    "\n",
    "Input: nums = [2,2,1,1,1,2,2]\n",
    "Output: 2\n",
    " \n",
    "\n",
    "Constraints:\n",
    "\n",
    "n == nums.length\n",
    "1 <= n <= 5 * 104\n",
    "-109 <= nums[i] <= 109"
   ]
  },
  {
   "cell_type": "code",
   "execution_count": 10,
   "id": "ffdd2c58",
   "metadata": {},
   "outputs": [
    {
     "name": "stdout",
     "output_type": "stream",
     "text": [
      "3\n"
     ]
    }
   ],
   "source": [
    "class Solution:\n",
    "    def majorityElement(self, nums):\n",
    "        hash_map={}\n",
    "        count=0\n",
    "        for i in nums:\n",
    "            if i not in hash_map:\n",
    "                hash_map[i] = 1\n",
    "            else:\n",
    "                hash_map[i] = hash_map[i]+1\n",
    "        \n",
    "        n = len(nums)//2\n",
    "        \n",
    "        for key,val in hash_map.items():\n",
    "            if val>n:\n",
    "                return key\n",
    "            \n",
    "        \n",
    "nums=[3,2,3]\n",
    "obj = Solution()\n",
    "print(obj.majorityElement(nums))"
   ]
  },
  {
   "cell_type": "code",
   "execution_count": null,
   "id": "69775d82",
   "metadata": {},
   "outputs": [],
   "source": []
  }
 ],
 "metadata": {
  "kernelspec": {
   "display_name": "Python 3 (ipykernel)",
   "language": "python",
   "name": "python3"
  },
  "language_info": {
   "codemirror_mode": {
    "name": "ipython",
    "version": 3
   },
   "file_extension": ".py",
   "mimetype": "text/x-python",
   "name": "python",
   "nbconvert_exporter": "python",
   "pygments_lexer": "ipython3",
   "version": "3.8.18"
  }
 },
 "nbformat": 4,
 "nbformat_minor": 5
}
