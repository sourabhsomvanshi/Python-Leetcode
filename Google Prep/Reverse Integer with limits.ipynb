{
 "cells": [
  {
   "cell_type": "code",
   "execution_count": 27,
   "id": "a4f6bd81",
   "metadata": {},
   "outputs": [
    {
     "name": "stdout",
     "output_type": "stream",
     "text": [
      "0\n"
     ]
    }
   ],
   "source": [
    "x = 1234567891345457568\n",
    "rev = 0\n",
    "flag = 0\n",
    "while(x!=0):\n",
    "    if x > 0:\n",
    "        rem = x % 10\n",
    "        rev = rev * 10 + rem\n",
    "        x = x // 10\n",
    "    else:\n",
    "        flag = 1\n",
    "        x = -1 * (x)\n",
    "        rem = x % 10\n",
    "        rev = rev * 10 + rem\n",
    "        x = x // 10\n",
    "        \n",
    "\n",
    "if flag==1:\n",
    "    rev= -1*rev\n",
    "\n",
    "print(rev if -2**31 <= rev< 2**31 else 0 )"
   ]
  },
  {
   "cell_type": "code",
   "execution_count": 13,
   "id": "d4d256c1",
   "metadata": {},
   "outputs": [
    {
     "name": "stdout",
     "output_type": "stream",
     "text": [
      "0\n"
     ]
    }
   ],
   "source": [
    "x = -1234567891345457568\n",
    "\n",
    "ans = int(str(abs(x))[::-1])*(-1 if x < 0 else 1)\n",
    "\n",
    "print(ans if -2**31 <= ans < 2**31 else 0 )"
   ]
  },
  {
   "cell_type": "code",
   "execution_count": 16,
   "id": "deceddc9",
   "metadata": {},
   "outputs": [
    {
     "name": "stdout",
     "output_type": "stream",
     "text": [
      "-1\n"
     ]
    }
   ],
   "source": []
  },
  {
   "cell_type": "code",
   "execution_count": null,
   "id": "226a8e63",
   "metadata": {},
   "outputs": [],
   "source": []
  }
 ],
 "metadata": {
  "kernelspec": {
   "display_name": "Python 3 (ipykernel)",
   "language": "python",
   "name": "python3"
  },
  "language_info": {
   "codemirror_mode": {
    "name": "ipython",
    "version": 3
   },
   "file_extension": ".py",
   "mimetype": "text/x-python",
   "name": "python",
   "nbconvert_exporter": "python",
   "pygments_lexer": "ipython3",
   "version": "3.8.18"
  }
 },
 "nbformat": 4,
 "nbformat_minor": 5
}
