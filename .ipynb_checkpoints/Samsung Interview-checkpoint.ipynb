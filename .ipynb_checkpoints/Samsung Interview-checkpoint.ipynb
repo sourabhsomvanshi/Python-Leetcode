{
 "cells": [
  {
   "cell_type": "code",
   "execution_count": 1,
   "id": "e7dd8b36",
   "metadata": {},
   "outputs": [
    {
     "name": "stdout",
     "output_type": "stream",
     "text": [
      "[[], [1], [1, 2], [1, 2, 3], [1, 3], [2], [2, 3], [3]]\n"
     ]
    }
   ],
   "source": [
    "def subsets(nums):\n",
    "    def backtrack(start, path):\n",
    "        result.append(path[:])\n",
    "        for i in range(start, len(nums)):\n",
    "            path.append(nums[i])\n",
    "            backtrack(i + 1, path)\n",
    "            path.pop()\n",
    "\n",
    "    result = []\n",
    "    backtrack(0, [])\n",
    "    return result\n",
    "\n",
    "# Example usage:\n",
    "nums = [1, 2, 3]\n",
    "print(subsets(nums))"
   ]
  },
  {
   "cell_type": "code",
   "execution_count": 2,
   "id": "10e761c6",
   "metadata": {},
   "outputs": [
    {
     "name": "stdout",
     "output_type": "stream",
     "text": [
      "[1, 2, 3]\n"
     ]
    }
   ],
   "source": []
  },
  {
   "cell_type": "code",
   "execution_count": null,
   "id": "89362761",
   "metadata": {},
   "outputs": [],
   "source": []
  }
 ],
 "metadata": {
  "kernelspec": {
   "display_name": "Python 3 (ipykernel)",
   "language": "python",
   "name": "python3"
  },
  "language_info": {
   "codemirror_mode": {
    "name": "ipython",
    "version": 3
   },
   "file_extension": ".py",
   "mimetype": "text/x-python",
   "name": "python",
   "nbconvert_exporter": "python",
   "pygments_lexer": "ipython3",
   "version": "3.8.18"
  }
 },
 "nbformat": 4,
 "nbformat_minor": 5
}
