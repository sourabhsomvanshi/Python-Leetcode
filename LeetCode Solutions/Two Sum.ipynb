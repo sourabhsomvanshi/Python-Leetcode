{
 "cells": [
  {
   "cell_type": "code",
   "execution_count": 6,
   "metadata": {},
   "outputs": [
    {
     "name": "stdout",
     "output_type": "stream",
     "text": [
      "[1, 2]\n"
     ]
    }
   ],
   "source": [
    "#Brute Force Solution\n",
    "\n",
    "num = [3,2,4]\n",
    "target = 6\n",
    "\n",
    "for i in range(0,len(num)):\n",
    "    for j in range(i+1,len(num)):\n",
    "        if num[i]+num[j]==target:\n",
    "            print([i,j])\n",
    "            break\n",
    "        else:\n",
    "            continue\n",
    "    "
   ]
  },
  {
   "cell_type": "code",
   "execution_count": 10,
   "metadata": {},
   "outputs": [
    {
     "name": "stdout",
     "output_type": "stream",
     "text": [
      "[2, 1]\n"
     ]
    }
   ],
   "source": [
    "#Hash Table\n",
    "\n",
    "num = [3,2,4]\n",
    "target = 6\n",
    "\n",
    "hash_table = {}\n",
    "\n",
    "for i in range(0,len(num)):\n",
    "    compliment=target-num[i]\n",
    "    if compliment in hash_table:\n",
    "        print([i,hash_table[compliment]])\n",
    "        break\n",
    "    hash_table[num[i]]=i\n",
    "        "
   ]
  },
  {
   "cell_type": "code",
   "execution_count": null,
   "metadata": {},
   "outputs": [],
   "source": []
  }
 ],
 "metadata": {
  "kernelspec": {
   "display_name": "Python 3",
   "language": "python",
   "name": "python3"
  },
  "language_info": {
   "codemirror_mode": {
    "name": "ipython",
    "version": 3
   },
   "file_extension": ".py",
   "mimetype": "text/x-python",
   "name": "python",
   "nbconvert_exporter": "python",
   "pygments_lexer": "ipython3",
   "version": "3.8.5"
  }
 },
 "nbformat": 4,
 "nbformat_minor": 4
}
