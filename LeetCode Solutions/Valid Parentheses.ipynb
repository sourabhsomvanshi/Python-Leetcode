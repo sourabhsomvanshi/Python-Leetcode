{
 "cells": [
  {
   "cell_type": "code",
   "execution_count": 31,
   "metadata": {},
   "outputs": [
    {
     "name": "stdout",
     "output_type": "stream",
     "text": [
      "Invalid Paranthesis\n"
     ]
    }
   ],
   "source": [
    "s=\"()[\"\n",
    "\n",
    "stack=[]\n",
    "dict= {\"(\":\")\", \"{\":\"}\",\"[\":\"]\"}\n",
    "\n",
    "flag=0\n",
    "for ch in s:\n",
    "    if ch in dict:\n",
    "        stack.append(ch)\n",
    "    elif not stack or dict[stack.pop()]!=ch:\n",
    "        flag=1\n",
    "    \n",
    "\n",
    "if len(stack)!=0 or flag==1:\n",
    "    print(\"Invalid Paranthesis\")\n",
    "else:\n",
    "    print(\"Valid Paranthesis\")\n"
   ]
  },
  {
   "cell_type": "code",
   "execution_count": 83,
   "metadata": {},
   "outputs": [
    {
     "name": "stdout",
     "output_type": "stream",
     "text": [
      "1\n"
     ]
    }
   ],
   "source": []
  },
  {
   "cell_type": "code",
   "execution_count": null,
   "metadata": {},
   "outputs": [],
   "source": []
  },
  {
   "cell_type": "code",
   "execution_count": null,
   "metadata": {},
   "outputs": [],
   "source": []
  },
  {
   "cell_type": "code",
   "execution_count": null,
   "metadata": {},
   "outputs": [],
   "source": []
  },
  {
   "cell_type": "code",
   "execution_count": null,
   "metadata": {},
   "outputs": [],
   "source": []
  },
  {
   "cell_type": "code",
   "execution_count": null,
   "metadata": {},
   "outputs": [],
   "source": []
  }
 ],
 "metadata": {
  "kernelspec": {
   "display_name": "Python 3",
   "language": "python",
   "name": "python3"
  },
  "language_info": {
   "codemirror_mode": {
    "name": "ipython",
    "version": 3
   },
   "file_extension": ".py",
   "mimetype": "text/x-python",
   "name": "python",
   "nbconvert_exporter": "python",
   "pygments_lexer": "ipython3",
   "version": "3.8.5"
  }
 },
 "nbformat": 4,
 "nbformat_minor": 4
}
