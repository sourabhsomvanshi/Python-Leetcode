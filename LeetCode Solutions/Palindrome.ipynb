{
 "cells": [
  {
   "cell_type": "code",
   "execution_count": 21,
   "metadata": {},
   "outputs": [
    {
     "name": "stdout",
     "output_type": "stream",
     "text": [
      "false\n",
      "false\n"
     ]
    }
   ],
   "source": [
    "x=-121\n",
    "\n",
    "backup=x\n",
    "rev=0\n",
    "\n",
    "\n",
    "while x!=0:\n",
    "    if x<0:\n",
    "        print(\"false\")\n",
    "        break\n",
    "    rem=x%10\n",
    "    print(rem)\n",
    "    x=round(x//10)\n",
    "    print(x)\n",
    "    rev=(rev*10)+rem\n",
    "    print(rev)\n",
    "    \n",
    "if(rev==backup):\n",
    "    print(\"true\")\n",
    "else:\n",
    "    print(\"false\")"
   ]
  },
  {
   "cell_type": "code",
   "execution_count": 27,
   "metadata": {},
   "outputs": [
    {
     "name": "stdout",
     "output_type": "stream",
     "text": [
      "false\n"
     ]
    }
   ],
   "source": [
    "x=-121\n",
    "\n",
    "str_x=str(x)\n",
    "rev=x\n",
    "if str(rev)==str_x[::-1]:\n",
    "    print(\"true\")\n",
    "else:\n",
    "    print(\"false\")"
   ]
  },
  {
   "cell_type": "code",
   "execution_count": null,
   "metadata": {},
   "outputs": [],
   "source": []
  }
 ],
 "metadata": {
  "kernelspec": {
   "display_name": "Python 3",
   "language": "python",
   "name": "python3"
  },
  "language_info": {
   "codemirror_mode": {
    "name": "ipython",
    "version": 3
   },
   "file_extension": ".py",
   "mimetype": "text/x-python",
   "name": "python",
   "nbconvert_exporter": "python",
   "pygments_lexer": "ipython3",
   "version": "3.8.5"
  }
 },
 "nbformat": 4,
 "nbformat_minor": 4
}
