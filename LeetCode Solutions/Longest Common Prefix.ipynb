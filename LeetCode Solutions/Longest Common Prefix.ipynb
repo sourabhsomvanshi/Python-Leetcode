{
 "cells": [
  {
   "cell_type": "code",
   "execution_count": 10,
   "metadata": {},
   "outputs": [
    {
     "name": "stdout",
     "output_type": "stream",
     "text": [
      "fl\n",
      "flo\n",
      "flow\n"
     ]
    }
   ],
   "source": [
    "#Longest common prefix horizontal scanning\n",
    "\n",
    "strs = [\"flower\",\"flow\",\"flight\"]\n",
    "\n",
    "prefix=\"\"\n",
    "\n",
    "if (strs is None or len(strs)==0):\n",
    "    print(prefix)\n",
    "\n",
    "minlen=len(strs[0])\n",
    "for i in range(1,len(strs)):\n",
    "    minlen = min(minlen,len(strs[i]))\n",
    "\n",
    "\n",
    "for i in range(0,minlen):\n",
    "    current=strs[0][i]\n",
    "\n",
    "    for j in range(0,len(strs)):\n",
    "        if strs[j][i]!=current:\n",
    "            print(prefix)\n",
    "\n",
    "    prefix= prefix + current\n",
    "\n",
    "print(prefix)\n"
   ]
  },
  {
   "cell_type": "code",
   "execution_count": null,
   "metadata": {},
   "outputs": [],
   "source": []
  },
  {
   "cell_type": "code",
   "execution_count": null,
   "metadata": {},
   "outputs": [],
   "source": []
  }
 ],
 "metadata": {
  "kernelspec": {
   "display_name": "Python 3",
   "language": "python",
   "name": "python3"
  },
  "language_info": {
   "codemirror_mode": {
    "name": "ipython",
    "version": 3
   },
   "file_extension": ".py",
   "mimetype": "text/x-python",
   "name": "python",
   "nbconvert_exporter": "python",
   "pygments_lexer": "ipython3",
   "version": "3.8.5"
  }
 },
 "nbformat": 4,
 "nbformat_minor": 4
}
