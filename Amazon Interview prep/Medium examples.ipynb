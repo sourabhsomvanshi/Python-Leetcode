{
 "cells": [
  {
   "cell_type": "code",
   "execution_count": 1,
   "id": "08e3cdbc",
   "metadata": {},
   "outputs": [
    {
     "name": "stdout",
     "output_type": "stream",
     "text": [
      "5\n",
      "Hi\n",
      "This\n",
      "is\n",
      "Sourabh\n",
      "Sourabh\n",
      "is\n",
      "awesome\n",
      "7\n"
     ]
    }
   ],
   "source": [
    "my_str = \"Hi This is Sourabh Sourabh is awesome\"\n",
    "\n",
    "cnt=0\n",
    "print(len(set(my_str.split())))\n",
    "for i in my_str.split():\n",
    "    print(i)\n",
    "    cnt=cnt+1\n",
    "\n",
    "print(cnt)"
   ]
  },
  {
   "cell_type": "code",
   "execution_count": 2,
   "id": "8cba05ca",
   "metadata": {},
   "outputs": [
    {
     "name": "stdout",
     "output_type": "stream",
     "text": [
      "5\n"
     ]
    }
   ],
   "source": [
    "my_str = \"Hi This is Sourabh Sourabh is awesome\"\n",
    "\n",
    "cnt=0\n",
    "my_dict = {}\n",
    "for i in my_str.split():\n",
    "    if i in my_dict:\n",
    "        continue\n",
    "    else:\n",
    "        my_dict[i]=i\n",
    "        cnt=cnt+1\n",
    "print(cnt)\n",
    "    \n"
   ]
  },
  {
   "cell_type": "code",
   "execution_count": 3,
   "id": "345dfd8c",
   "metadata": {},
   "outputs": [
    {
     "name": "stdout",
     "output_type": "stream",
     "text": [
      "4.428571428571429\n"
     ]
    }
   ],
   "source": [
    "#calculate avg word len\n",
    "my_str = \"Hi This is Sourabh Sourabh is awesome\"\n",
    "\n",
    "word_len = []\n",
    "num_words = 0\n",
    "for word in my_str.split():\n",
    "    word_len.append(len(word))\n",
    "    num_words = num_words + 1\n",
    "    \n",
    "print(sum(word_len)/num_words)\n"
   ]
  },
  {
   "cell_type": "code",
   "execution_count": 4,
   "id": "2e274bb9",
   "metadata": {},
   "outputs": [
    {
     "name": "stdout",
     "output_type": "stream",
     "text": [
      "x= 233 rem= 2 z= 2\n",
      "x= 23 rem= 3 z= 23\n",
      "x= 2 rem= 3 z= 233\n",
      "x= 0 rem= 2 z= 2332\n",
      "Pallindome\n"
     ]
    }
   ],
   "source": [
    "#pallindrome\n",
    "\n",
    "x = 2332\n",
    "y=x\n",
    "z=0\n",
    "for i in range(len(str(x))):\n",
    "    if x>0:\n",
    "        rem = x % 10\n",
    "        z = (z * 10) + rem\n",
    "        x = x // 10\n",
    "        print(\"x=\", x,\"rem=\", rem,\"z=\", z)\n",
    "\n",
    "if y==z:\n",
    "    print('Pallindome')\n",
    "else:\n",
    "    print('Not pallindrmoe')\n",
    "    \n",
    "        \n",
    "    \n",
    "    "
   ]
  },
  {
   "cell_type": "code",
   "execution_count": 5,
   "id": "d592fcb8",
   "metadata": {},
   "outputs": [
    {
     "name": "stdout",
     "output_type": "stream",
     "text": [
      "Not pallindrmoe\n"
     ]
    }
   ],
   "source": [
    "x = 12451\n",
    "\n",
    "str_x = str(x)\n",
    "\n",
    "if str(x) == str_x[::-1]:\n",
    "    print('Pallindome')\n",
    "else:\n",
    "    print('Not pallindrmoe')\n"
   ]
  },
  {
   "cell_type": "code",
   "execution_count": 6,
   "id": "c77b864f",
   "metadata": {},
   "outputs": [
    {
     "name": "stdout",
     "output_type": "stream",
     "text": [
      "i1 2a2m1 0b1a0c1k1.1\n"
     ]
    }
   ],
   "source": [
    "my_str = \"I am back.\"\n",
    "my_str = my_str.lower()\n",
    "output = []\n",
    "\n",
    "for s in my_str:\n",
    "    cnt=my_str.count(s)        \n",
    "    output.append(s)\n",
    "    output.append(str(cnt))\n",
    "    \n",
    "    my_str = my_str.replace(s, '')\n",
    "\n",
    "\n",
    "print(''.join(output))\n",
    "    "
   ]
  },
  {
   "cell_type": "code",
   "execution_count": 7,
   "id": "920aa413",
   "metadata": {},
   "outputs": [
    {
     "name": "stdout",
     "output_type": "stream",
     "text": [
      "True\n"
     ]
    }
   ],
   "source": [
    "def validate_ip(ip):\n",
    "    ip_str = ip.split('.')\n",
    "    if len(ip_str)!=4:\n",
    "        return False\n",
    "    for ch in ip_str:\n",
    "        if not ch.isdigit():\n",
    "            return False\n",
    "        if int(ch)<0 or int(ch)>255:\n",
    "            return False\n",
    "    return True\n",
    "    \n",
    "\n",
    "ip='255.255.255.255'\n",
    "print(validate_ip(ip))"
   ]
  },
  {
   "cell_type": "code",
   "execution_count": 8,
   "id": "98009227",
   "metadata": {},
   "outputs": [
    {
     "data": {
      "text/plain": [
       "['test', 'array']"
      ]
     },
     "execution_count": 8,
     "metadata": {},
     "output_type": "execute_result"
    }
   ],
   "source": [
    "#check for words that exists in two lists\n",
    "arr1 = [\"this\", \"is\", \"my\", \"test\"]\n",
    "arr2 = [\"this\", \"is\", \"my\", \"array\"]\n",
    "\n",
    "def uniqueWords(arr1, arr2):\n",
    "    result = {}\n",
    "    for word in arr1:\n",
    "        result[word]=1\n",
    "    for word2 in arr2:\n",
    "        if word2 in result:\n",
    "            result[word2]=2\n",
    "        else:\n",
    "            result[word2]=1\n",
    "    return [w for w in result if result[w] == 1]\n",
    "\n",
    "uniqueWords(arr1, arr2)"
   ]
  },
  {
   "cell_type": "code",
   "execution_count": 9,
   "id": "7aaa1ca8",
   "metadata": {},
   "outputs": [
    {
     "name": "stdout",
     "output_type": "stream",
     "text": [
      "dict_keys(['a', 'b', 'c', 'd'])\n",
      "dict_values([1, 2, 100, 30])\n",
      "[100, 30, 2, 1]\n",
      "d\n"
     ]
    }
   ],
   "source": [
    "my_dict = {'a': 1, 'b': 2, 'c': 100, 'd': 30}\n",
    "\n",
    "def nth_largest(my_dict, n):\n",
    "    \n",
    "    print(my_dict.keys())\n",
    "    print(my_dict.values())\n",
    "    sorted_list = sorted(my_dict.values(), reverse=True)\n",
    "    print(sorted_list)\n",
    "    \n",
    "    for key,value in my_dict.items(): \n",
    "        if value==sorted_list[n-1]:\n",
    "            return key \n",
    "\n",
    "print(nth_largest(my_dict, 2))"
   ]
  },
  {
   "cell_type": "code",
   "execution_count": 10,
   "id": "ca44ac1f",
   "metadata": {},
   "outputs": [
    {
     "name": "stdout",
     "output_type": "stream",
     "text": [
      "0\n"
     ]
    }
   ],
   "source": [
    "def count_words(mystr,word):\n",
    "    mylist = mystr.split()\n",
    "    cnt=0\n",
    "    for s in mylist:\n",
    "        s = s.replace('.','')\n",
    "        if s == word:\n",
    "            cnt=cnt+1\n",
    "    return cnt\n",
    "\n",
    "mystr='My name is Sourabh. Bangalore is my favourite place.'\n",
    "word='shwetha'\n",
    "print(count_words(mystr, word))"
   ]
  },
  {
   "cell_type": "code",
   "execution_count": 11,
   "id": "5333fe52",
   "metadata": {},
   "outputs": [
    {
     "name": "stdout",
     "output_type": "stream",
     "text": [
      "bacd\n"
     ]
    }
   ],
   "source": [
    "def reverseStr(s: str, k: int) -> str:\n",
    "    a = list(s)\n",
    "    for i in range(0, len(a), 2*k):\n",
    "        a[i:i+k] = reversed(a[i:i+k])\n",
    "    return \"\".join(a)          \n",
    "        \n",
    "print(reverseStr('abcd',2))     "
   ]
  },
  {
   "cell_type": "code",
   "execution_count": 12,
   "id": "116929db",
   "metadata": {},
   "outputs": [
    {
     "name": "stdout",
     "output_type": "stream",
     "text": [
      "so\n"
     ]
    }
   ],
   "source": [
    "x='sourabh'\n",
    "k=2\n",
    "i=0\n",
    "print(x[i:i+k])\n"
   ]
  },
  {
   "cell_type": "code",
   "execution_count": 13,
   "id": "a2ced2f5",
   "metadata": {},
   "outputs": [
    {
     "name": "stdout",
     "output_type": "stream",
     "text": [
      "0\n"
     ]
    }
   ],
   "source": [
    "stack=[1]\n",
    "flag=0\n",
    "if not stack:\n",
    "    flag=1\n",
    "print(flag)"
   ]
  },
  {
   "cell_type": "code",
   "execution_count": 14,
   "id": "1f65524d",
   "metadata": {},
   "outputs": [
    {
     "ename": "NameError",
     "evalue": "name 'arr' is not defined",
     "output_type": "error",
     "traceback": [
      "\u001b[1;31m---------------------------------------------------------------------------\u001b[0m",
      "\u001b[1;31mNameError\u001b[0m                                 Traceback (most recent call last)",
      "Cell \u001b[1;32mIn[14], line 8\u001b[0m\n\u001b[0;32m      5\u001b[0m target \u001b[38;5;241m=\u001b[39m \u001b[38;5;241m11\u001b[39m\n\u001b[0;32m      7\u001b[0m hash_map\u001b[38;5;241m=\u001b[39m{}\n\u001b[1;32m----> 8\u001b[0m \u001b[38;5;28;01mfor\u001b[39;00m i \u001b[38;5;129;01min\u001b[39;00m \u001b[38;5;28mrange\u001b[39m(\u001b[38;5;28mlen\u001b[39m(\u001b[43marr\u001b[49m)):\n\u001b[0;32m     10\u001b[0m     compliment \u001b[38;5;241m=\u001b[39m target \u001b[38;5;241m-\u001b[39m num[i]\n\u001b[0;32m     12\u001b[0m     \u001b[38;5;28;01mif\u001b[39;00m compliment \u001b[38;5;129;01mnot\u001b[39;00m \u001b[38;5;129;01min\u001b[39;00m hash_map:\n",
      "\u001b[1;31mNameError\u001b[0m: name 'arr' is not defined"
     ]
    }
   ],
   "source": [
    "#two sum\n",
    "\n",
    "num = [1,2,3,4,5,6,7]\n",
    "\n",
    "target = 11\n",
    "\n",
    "hash_map={}\n",
    "for i in range(len(arr)):\n",
    "    \n",
    "    compliment = target - num[i]\n",
    "    \n",
    "    if compliment not in hash_map:\n",
    "        hash_map[num[i]]= i\n",
    "    \n",
    "    if compliment in hash_map:\n",
    "        print(hash_map[compliment], i)\n",
    "        break\n",
    "    \n"
   ]
  },
  {
   "cell_type": "code",
   "execution_count": null,
   "id": "56ab07c8",
   "metadata": {},
   "outputs": [],
   "source": [
    "num = 12345\n",
    "\n",
    "num_str = str(num)\n",
    "sum_even=0\n",
    "sum_odd=0\n",
    "for i in num_str:\n",
    "    if int(i)%2==0:\n",
    "        sum_even=sum_even+int(i)\n",
    "    elif int(i)%2!=0:\n",
    "        sum_odd=sum_odd+int(i)\n",
    "\n",
    "print([sum_even,sum_odd])\n",
    "        \n",
    "        "
   ]
  },
  {
   "cell_type": "code",
   "execution_count": null,
   "id": "6bf1d79c",
   "metadata": {},
   "outputs": [],
   "source": [
    "#flatten an array\n",
    "\n",
    "matrix =  [[1], [2, 3], [4, 5, 6, 7]]\n",
    "\n",
    "flatten_list = []\n",
    "for row in matrix:\n",
    "    flatten_list.extend(row)\n",
    "    \n",
    "print(flatten_list)"
   ]
  },
  {
   "cell_type": "code",
   "execution_count": null,
   "id": "17685fab",
   "metadata": {},
   "outputs": [],
   "source": [
    "# input list\n",
    "#l = [1, 2, [3, 4, [5, 6]], 7, 8, [9, [10]]]\n",
    "\n",
    "\n",
    "lis = [[11, 22, 33, 44], [55, 66, 77], [88, 99, 100]]\n",
    "\n",
    "# output list\n",
    "output = []\n",
    "\n",
    "# function used for removing nested\n",
    "# lists in python using recursion\n",
    "def reemovNestings(l):\n",
    "    for i in l:\n",
    "        if type(i) is list:\n",
    "            reemovNestings(i)\n",
    "        else:\n",
    "            output.append(i)\n",
    "\n",
    "\n",
    "\n",
    "print('The original list: ', lis)\n",
    "reemovNestings(lis)\n",
    "print('The list after removing nesting: ', output)\n"
   ]
  },
  {
   "cell_type": "code",
   "execution_count": null,
   "id": "eb089544",
   "metadata": {},
   "outputs": [],
   "source": []
  },
  {
   "cell_type": "code",
   "execution_count": null,
   "id": "305f3fdd",
   "metadata": {},
   "outputs": [],
   "source": []
  }
 ],
 "metadata": {
  "kernelspec": {
   "display_name": "Python 3 (ipykernel)",
   "language": "python",
   "name": "python3"
  },
  "language_info": {
   "codemirror_mode": {
    "name": "ipython",
    "version": 3
   },
   "file_extension": ".py",
   "mimetype": "text/x-python",
   "name": "python",
   "nbconvert_exporter": "python",
   "pygments_lexer": "ipython3",
   "version": "3.8.18"
  }
 },
 "nbformat": 4,
 "nbformat_minor": 5
}
